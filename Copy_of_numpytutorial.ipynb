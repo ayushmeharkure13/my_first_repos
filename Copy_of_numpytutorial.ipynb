{
  "nbformat": 4,
  "nbformat_minor": 0,
  "metadata": {
    "colab": {
      "provenance": [],
      "authorship_tag": "ABX9TyNfbHUEmVSRf/sNGoAdlDba",
      "include_colab_link": true
    },
    "kernelspec": {
      "name": "python3",
      "display_name": "Python 3"
    },
    "language_info": {
      "name": "python"
    }
  },
  "cells": [
    {
      "cell_type": "markdown",
      "metadata": {
        "id": "view-in-github",
        "colab_type": "text"
      },
      "source": [
        "<a href=\"https://colab.research.google.com/github/ayushmeharkure13/my_first_repos/blob/main/Copy_of_numpytutorial.ipynb\" target=\"_parent\"><img src=\"https://colab.research.google.com/assets/colab-badge.svg\" alt=\"Open In Colab\"/></a>"
      ]
    },
    {
      "cell_type": "code",
      "execution_count": null,
      "metadata": {
        "id": "gYzCGxcn4omU",
        "colab": {
          "base_uri": "https://localhost:8080/"
        },
        "outputId": "188001b8-c957-407b-8569-c2cbfd6bf9a0"
      },
      "outputs": [
        {
          "output_type": "stream",
          "name": "stdout",
          "text": [
            "1\n",
            "[0.5 1.  1.5 2.  2.5]\n",
            "0.5\n",
            "1.0\n",
            "1.5\n",
            "2.0\n",
            "2.5\n"
          ]
        }
      ],
      "source": [
        "import numpy as np\n",
        "a=np.array([1,2,3,4,5])\n",
        "print(a.ndim)\n",
        "print(a/2)\n",
        "for i in a/2:\n",
        "  print(i)"
      ]
    },
    {
      "cell_type": "markdown",
      "source": [
        " Might occasionally hear an array referred to as a “ndarray,” which is shorthand for “N-dimensional array.” An N-dimensional array is simply an array with any number of dimensions. You might also hear 1-D, or one-dimensional array, 2-D, or two-dimensional array, and so on. The NumPy ndarray class is used to represent both matrices and vectors. A vector is an array with a single dimension (there’s no difference between row and column vectors), while a matrix refers to an array with two dimensions. For 3-D or higher dimensional arrays, the term tensor is also commonly used."
      ],
      "metadata": {
        "id": "swp8ck5BYzwX"
      }
    },
    {
      "cell_type": "code",
      "source": [
        "for i in a/2:\n",
        "  print(i)"
      ],
      "metadata": {
        "colab": {
          "base_uri": "https://localhost:8080/"
        },
        "id": "TGR6LQAQPxOy",
        "outputId": "5bf7b261-70b4-4d2b-fbf6-74e768ae7a4a"
      },
      "execution_count": null,
      "outputs": [
        {
          "output_type": "stream",
          "name": "stdout",
          "text": [
            "0.5\n",
            "1.0\n",
            "1.5\n",
            "2.0\n",
            "2.5\n"
          ]
        }
      ]
    },
    {
      "cell_type": "code",
      "source": [
        " #If you expect your integer arrays to be a specific type, then\n",
        " #you need to specify the dtype while you create the array.\n",
        "b=np.array([2,123,4,124] , dtype=np.int8)\n",
        "print(b)\n",
        "c=np.array([2,129,4,134] , dtype=np.int8)\n",
        "print(c)\n",
        "#it generates the wrong o/p because the size of signed integer of 8 bytes is from -128 to +127\n",
        "#here we write 129 ,135 which is out of range"
      ],
      "metadata": {
        "colab": {
          "base_uri": "https://localhost:8080/"
        },
        "id": "EDSr1GZ-SpJL",
        "outputId": "f53cc341-426a-4c6d-8e88-109c81422d59"
      },
      "execution_count": null,
      "outputs": [
        {
          "output_type": "stream",
          "name": "stdout",
          "text": [
            "[  2 123   4 124]\n",
            "[   2 -127    4 -122]\n"
          ]
        }
      ]
    },
    {
      "cell_type": "markdown",
      "source": [
        "# **Functions for array creation in numpy**\n"
      ],
      "metadata": {
        "id": "R2OSLdgMYQX2"
      }
    },
    {
      "cell_type": "markdown",
      "source": [
        "###for 1-d array:-    np.array( [ #content# ] )\n",
        "###for 2-d array:-    np.array([ [ #content# ] , [ #content# ] ]) or np.array(([content ] , [content]))\n",
        "\n",
        "\n"
      ],
      "metadata": {
        "id": "3F0wGi45t6z-"
      }
    },
    {
      "cell_type": "code",
      "source": [
        "a=np.array([1,2,3,4,5,6])\n",
        "a"
      ],
      "metadata": {
        "colab": {
          "base_uri": "https://localhost:8080/"
        },
        "id": "VNXD-tnsTwLE",
        "outputId": "01c27c45-8946-4e64-d445-49d8399864b2"
      },
      "execution_count": null,
      "outputs": [
        {
          "output_type": "execute_result",
          "data": {
            "text/plain": [
              "array([1, 2, 3, 4, 5, 6])"
            ]
          },
          "metadata": {},
          "execution_count": 6
        }
      ]
    },
    {
      "cell_type": "code",
      "source": [
        "print(np.zeros(5))"
      ],
      "metadata": {
        "colab": {
          "base_uri": "https://localhost:8080/"
        },
        "id": "h9VB6pIrTwJI",
        "outputId": "6dad3ee6-6147-48cb-b37f-f2de231cb979"
      },
      "execution_count": null,
      "outputs": [
        {
          "output_type": "stream",
          "name": "stdout",
          "text": [
            "[0. 0. 0. 0. 0.]\n"
          ]
        }
      ]
    },
    {
      "cell_type": "code",
      "source": [
        "a=np.zeros((4,4))\n",
        "a"
      ],
      "metadata": {
        "colab": {
          "base_uri": "https://localhost:8080/"
        },
        "id": "VuXDLZ2ctfJb",
        "outputId": "647d6a00-db8d-4f83-b293-858c84220daf"
      },
      "execution_count": null,
      "outputs": [
        {
          "output_type": "execute_result",
          "data": {
            "text/plain": [
              "array([[0., 0., 0., 0.],\n",
              "       [0., 0., 0., 0.],\n",
              "       [0., 0., 0., 0.],\n",
              "       [0., 0., 0., 0.]])"
            ]
          },
          "metadata": {},
          "execution_count": 150
        }
      ]
    },
    {
      "cell_type": "code",
      "source": [
        "b=np.ones(4)\n",
        "b"
      ],
      "metadata": {
        "colab": {
          "base_uri": "https://localhost:8080/"
        },
        "id": "vdH1t_FoTwGx",
        "outputId": "4f6e0307-928e-4f08-f27b-b143d3aab37f"
      },
      "execution_count": null,
      "outputs": [
        {
          "output_type": "execute_result",
          "data": {
            "text/plain": [
              "array([1., 1., 1., 1.])"
            ]
          },
          "metadata": {},
          "execution_count": 9
        }
      ]
    },
    {
      "cell_type": "code",
      "source": [
        "np.ones((2,5))"
      ],
      "metadata": {
        "colab": {
          "base_uri": "https://localhost:8080/"
        },
        "id": "0fF_bUV_te9u",
        "outputId": "8e362879-df8c-41c6-e58a-1160b9ff07e6"
      },
      "execution_count": null,
      "outputs": [
        {
          "output_type": "execute_result",
          "data": {
            "text/plain": [
              "array([[1., 1., 1., 1., 1.],\n",
              "       [1., 1., 1., 1., 1.]])"
            ]
          },
          "metadata": {},
          "execution_count": 154
        }
      ]
    },
    {
      "cell_type": "code",
      "source": [
        "np.empty(4)       #it prints any random values"
      ],
      "metadata": {
        "colab": {
          "base_uri": "https://localhost:8080/"
        },
        "id": "WRY4Wua7VWB7",
        "outputId": "511db3e4-d4b7-4588-f14a-035d39b63d26"
      },
      "execution_count": null,
      "outputs": [
        {
          "output_type": "execute_result",
          "data": {
            "text/plain": [
              "array([ 2.5,  5. ,  7.5, 10. ])"
            ]
          },
          "metadata": {},
          "execution_count": 27
        }
      ]
    },
    {
      "cell_type": "code",
      "source": [
        "c=np.arange(2,9,2)   #start=2,stop=9,end=9-1=8,step=2\n",
        "c"
      ],
      "metadata": {
        "colab": {
          "base_uri": "https://localhost:8080/"
        },
        "id": "D1Qx39XFUBDT",
        "outputId": "943e3eb8-1468-42ca-91d2-49d982364e7d"
      },
      "execution_count": null,
      "outputs": [
        {
          "output_type": "execute_result",
          "data": {
            "text/plain": [
              "array([2, 4, 6, 8])"
            ]
          },
          "metadata": {},
          "execution_count": 11
        }
      ]
    },
    {
      "cell_type": "code",
      "source": [
        "a=np.random.randint(5,50,40)         #40 random values will be printed in between 5 to 50\n",
        "a"
      ],
      "metadata": {
        "colab": {
          "base_uri": "https://localhost:8080/"
        },
        "id": "NOMZnUzTTDf6",
        "outputId": "ec195244-d556-4c9d-e09d-14f5dbf0a1cb"
      },
      "execution_count": null,
      "outputs": [
        {
          "output_type": "execute_result",
          "data": {
            "text/plain": [
              "array([37, 25, 43, 23, 48, 24, 16,  5, 16, 32, 34,  6, 10, 29, 12, 47, 16,\n",
              "       36, 18, 28,  5, 43, 23, 26, 36, 49, 17, 46, 48, 24, 39, 40, 41, 13,\n",
              "       42, 44,  6, 46, 13, 43])"
            ]
          },
          "metadata": {},
          "execution_count": 6
        }
      ]
    },
    {
      "cell_type": "code",
      "source": [],
      "metadata": {
        "id": "lnVABhl-TDct"
      },
      "execution_count": null,
      "outputs": []
    },
    {
      "cell_type": "code",
      "source": [
        "iden=np.identity(5)     #it will generate 5 cross 5 wala identity matrx\n",
        "iden"
      ],
      "metadata": {
        "colab": {
          "base_uri": "https://localhost:8080/"
        },
        "id": "mo2a24MbxPUR",
        "outputId": "d42eb27e-fac9-4ac9-f2bd-a727268788df"
      },
      "execution_count": null,
      "outputs": [
        {
          "output_type": "execute_result",
          "data": {
            "text/plain": [
              "array([[1., 0., 0., 0., 0.],\n",
              "       [0., 1., 0., 0., 0.],\n",
              "       [0., 0., 1., 0., 0.],\n",
              "       [0., 0., 0., 1., 0.],\n",
              "       [0., 0., 0., 0., 1.]])"
            ]
          },
          "metadata": {},
          "execution_count": 160
        }
      ]
    },
    {
      "cell_type": "markdown",
      "source": [
        "Specifying your data type\n",
        "\n",
        "### While the default data type is floating point (np.float64),we can explicitly specify which data type we want using the dtype keyword.dtype is highly efficient for memory management.\n"
      ],
      "metadata": {
        "id": "d2XndRZkV09k"
      }
    },
    {
      "cell_type": "code",
      "source": [
        "np.arange(2, 10, dtype=float)"
      ],
      "metadata": {
        "colab": {
          "base_uri": "https://localhost:8080/"
        },
        "id": "6kmAY2mfa3Ql",
        "outputId": "bd91cd1b-00cc-4661-d976-af88cf751e89"
      },
      "execution_count": null,
      "outputs": [
        {
          "output_type": "execute_result",
          "data": {
            "text/plain": [
              "array([2., 3., 4., 5., 6., 7., 8., 9.])"
            ]
          },
          "metadata": {},
          "execution_count": 20
        }
      ]
    },
    {
      "cell_type": "code",
      "source": [
        "a=np.arange(2,5,0.5)\n",
        "print(a)"
      ],
      "metadata": {
        "colab": {
          "base_uri": "https://localhost:8080/"
        },
        "id": "QnEksY5GXk73",
        "outputId": "8d3ca21e-ee23-46f8-9711-b68671a4f346"
      },
      "execution_count": null,
      "outputs": [
        {
          "output_type": "stream",
          "name": "stdout",
          "text": [
            "[2.  2.5 3.  3.5 4.  4.5]\n"
          ]
        }
      ]
    },
    {
      "cell_type": "code",
      "source": [
        "for i in a:\n",
        "  print(i,end=\" \")"
      ],
      "metadata": {
        "colab": {
          "base_uri": "https://localhost:8080/"
        },
        "id": "MnR1117JUi7n",
        "outputId": "defdd188-da93-43b0-ad8e-7b1f5acb4795"
      },
      "execution_count": null,
      "outputs": [
        {
          "output_type": "stream",
          "name": "stdout",
          "text": [
            "2.0 2.5 3.0 3.5 4.0 4.5 "
          ]
        }
      ]
    },
    {
      "cell_type": "markdown",
      "source": [
        "\n",
        "The linspace() function in NumPy creates an array of evenly spaced numbers over a specified range. The range is defined by the start and end points of the sequence, and the number of evenly spaced points to be generated between them.\n",
        "###**numpy.linspace(start, stop, num, endpoint, retstep, ...)**"
      ],
      "metadata": {
        "id": "WSc2h3i9vb5y"
      }
    },
    {
      "cell_type": "code",
      "source": [
        "print(np.linspace(0,10,6))"
      ],
      "metadata": {
        "colab": {
          "base_uri": "https://localhost:8080/"
        },
        "id": "SXhTEFh7UiaS",
        "outputId": "409b91f8-6c49-400c-e425-2c27c29d9fde"
      },
      "execution_count": null,
      "outputs": [
        {
          "output_type": "stream",
          "name": "stdout",
          "text": [
            "[ 0.  2.  4.  6.  8. 10.]\n"
          ]
        }
      ]
    },
    {
      "cell_type": "code",
      "source": [
        "np.linspace(1,7,5)      #1 is start , end is considered as 7 and 5 is number of spacing which we want"
      ],
      "metadata": {
        "colab": {
          "base_uri": "https://localhost:8080/"
        },
        "id": "dmUedpqXwDyF",
        "outputId": "c7afc215-037f-43ce-debc-552c0a0997be"
      },
      "execution_count": null,
      "outputs": [
        {
          "output_type": "execute_result",
          "data": {
            "text/plain": [
              "array([1. , 2.5, 4. , 5.5, 7. ])"
            ]
          },
          "metadata": {},
          "execution_count": 157
        }
      ]
    },
    {
      "cell_type": "code",
      "source": [
        "a=np.array([2,3,4,5,6])\n",
        "a[3]=56\n",
        "print(a)"
      ],
      "metadata": {
        "colab": {
          "base_uri": "https://localhost:8080/"
        },
        "id": "Lh9o1KmLqYae",
        "outputId": "1c011485-f5c0-41a6-b5bf-6a178cd9e727"
      },
      "execution_count": null,
      "outputs": [
        {
          "output_type": "stream",
          "name": "stdout",
          "text": [
            "[ 2  3  4 56  6]\n"
          ]
        }
      ]
    },
    {
      "cell_type": "code",
      "source": [
        "#manipulation in numpy array\n",
        "x=np.array([[1,2,3,4,5,6],\n",
        "          [7,8,9,10,11,12]])\n",
        "x[1,3]=45\n",
        "print(x)"
      ],
      "metadata": {
        "colab": {
          "base_uri": "https://localhost:8080/"
        },
        "id": "PJY6o3P7qYWT",
        "outputId": "e9aa5d5d-96f4-470b-9e20-786795157445"
      },
      "execution_count": null,
      "outputs": [
        {
          "output_type": "stream",
          "name": "stdout",
          "text": [
            "[[ 1  2  3  4  5  6]\n",
            " [ 7  8  9 45 11 12]]\n"
          ]
        }
      ]
    },
    {
      "cell_type": "code",
      "source": [],
      "metadata": {
        "id": "cG9JDVFTqYS8"
      },
      "execution_count": null,
      "outputs": []
    },
    {
      "cell_type": "code",
      "source": [
        "#numpy.linspace will create arrays with a specified number of elements,\n",
        "#and spaced equally between the specified beginning and end values. For example:\n",
        "np.linspace(1., 4., 6)\n",
        "#here start value is 1 end value is 4 and step value is 0.6"
      ],
      "metadata": {
        "colab": {
          "base_uri": "https://localhost:8080/"
        },
        "id": "qegGFyt-Xk45",
        "outputId": "289c1a48-23d3-4ef8-ed45-315bfa308cd5"
      },
      "execution_count": null,
      "outputs": [
        {
          "output_type": "execute_result",
          "data": {
            "text/plain": [
              "array([1. , 1.6, 2.2, 2.8, 3.4, 4. ])"
            ]
          },
          "metadata": {},
          "execution_count": 27
        }
      ]
    },
    {
      "cell_type": "markdown",
      "source": [
        "# 2-D array creation function and few basic opearations on it\n"
      ],
      "metadata": {
        "id": "O68SrzSUeL-J"
      }
    },
    {
      "cell_type": "code",
      "source": [
        "a=np.arange(1,5,1)\n",
        "print(a)\n",
        "print(a.ndim)\n",
        "print(a[0])"
      ],
      "metadata": {
        "colab": {
          "base_uri": "https://localhost:8080/"
        },
        "id": "aweW-SB0W6aG",
        "outputId": "fc8c1eb6-089a-48ca-fa40-aa74a02c16f3"
      },
      "execution_count": null,
      "outputs": [
        {
          "output_type": "stream",
          "name": "stdout",
          "text": [
            "[1 2 3 4]\n",
            "1\n",
            "1\n"
          ]
        }
      ]
    },
    {
      "cell_type": "code",
      "source": [
        "b=np.array(([1,2,3,4,5,6],\n",
        "            [7,8,9,1,2,3]))\n",
        "print(b.ndim)\n",
        "print(f\"element at 0,1 position of an array is {b[0,4]}\")"
      ],
      "metadata": {
        "id": "VVcB-mX9fSQR",
        "colab": {
          "base_uri": "https://localhost:8080/"
        },
        "outputId": "2b8a0943-5613-4062-acf6-26d796489b09"
      },
      "execution_count": null,
      "outputs": [
        {
          "output_type": "stream",
          "name": "stdout",
          "text": [
            "2\n",
            "element at 0,1 position of an array is 5\n"
          ]
        }
      ]
    },
    {
      "cell_type": "code",
      "source": [
        "a=np.array([23,454,54,34])\n",
        "print(a[3])\n",
        "b=np.array(([12,23,15,12],    #00 01 02 03\n",
        "            [23,76,43,10]))   #10 11 12 13\n",
        "print(b[0,2])"
      ],
      "metadata": {
        "colab": {
          "base_uri": "https://localhost:8080/"
        },
        "id": "5LiFpBIVWjBL",
        "outputId": "debde93f-7a84-4e93-8b9f-c9821cd6b0de"
      },
      "execution_count": null,
      "outputs": [
        {
          "output_type": "stream",
          "name": "stdout",
          "text": [
            "34\n",
            "15\n"
          ]
        }
      ]
    },
    {
      "cell_type": "code",
      "source": [
        "import numpy as np\n",
        "a=np.array([1,2,4,5,6])\n",
        "b=np.array([[2,3,4],\n",
        "            [2,3,4]])\n",
        "c= np.array([\n",
        "    [[1, 2, 3, 4], [5, 6, 7, 8], [9, 10, 11, 12]],\n",
        "    [[13, 14, 15, 16], [17, 18, 19, 20], [21, 22, 23, 24]],\n",
        "    [[25, 26, 27, 28], [29, 30, 31, 32], [33, 34, 35, 36]]\n",
        "])\n",
        "print(a.ndim)\n",
        "print(b.ndim)\n",
        "print(c.ndim)"
      ],
      "metadata": {
        "id": "MemSo6_9Wi6E",
        "colab": {
          "base_uri": "https://localhost:8080/"
        },
        "outputId": "3a517d8e-42a8-43ae-85fc-b154fb282b4f"
      },
      "execution_count": null,
      "outputs": [
        {
          "output_type": "stream",
          "name": "stdout",
          "text": [
            "1\n",
            "2\n",
            "3\n"
          ]
        }
      ]
    },
    {
      "cell_type": "markdown",
      "source": [
        "## Sorting and Concatenating an array"
      ],
      "metadata": {
        "id": "87l_1eJJZ2H_"
      }
    },
    {
      "cell_type": "code",
      "source": [
        "a=np.array([2,1,4,56,3,90,21])\n",
        "np.sort(a)"
      ],
      "metadata": {
        "id": "_kaIXqZFWi3b",
        "colab": {
          "base_uri": "https://localhost:8080/"
        },
        "outputId": "fb3b60aa-e537-4e5e-abc2-3cf6fa53bfc7"
      },
      "execution_count": null,
      "outputs": [
        {
          "output_type": "execute_result",
          "data": {
            "text/plain": [
              "array([ 1,  2,  3,  4, 21, 56, 90])"
            ]
          },
          "metadata": {},
          "execution_count": 54
        }
      ]
    },
    {
      "cell_type": "code",
      "source": [
        "a=np.array([1,4,2,3,4,5,2,1,56,32])\n",
        "np.sort(a)"
      ],
      "metadata": {
        "colab": {
          "base_uri": "https://localhost:8080/"
        },
        "id": "auht8XiAbY_Z",
        "outputId": "08c10c8b-06d1-48c3-c688-9ae403338811"
      },
      "execution_count": null,
      "outputs": [
        {
          "output_type": "execute_result",
          "data": {
            "text/plain": [
              "array([ 1,  1,  2,  2,  3,  4,  4,  5, 32, 56])"
            ]
          },
          "metadata": {},
          "execution_count": 59
        }
      ]
    },
    {
      "cell_type": "code",
      "source": [
        "a=np.array([1,2,3,4])\n",
        "b=np.array([5,6,7,9,10])\n",
        "print(np.concatenate((a,b)))"
      ],
      "metadata": {
        "colab": {
          "base_uri": "https://localhost:8080/"
        },
        "id": "b1DukAazb6wD",
        "outputId": "e7f47d02-dae8-4edb-f313-20a85e82d792"
      },
      "execution_count": null,
      "outputs": [
        {
          "output_type": "stream",
          "name": "stdout",
          "text": [
            "[ 1  2  3  4  5  6  7  9 10]\n"
          ]
        }
      ]
    },
    {
      "cell_type": "code",
      "source": [
        "c=np.array(([23,45,56,78],\n",
        "            [12,13,14,15]))\n",
        "d=np.array(([1,2,3,4],\n",
        "            [5,6,7,8]))\n",
        "print(np.concatenate((c,d),axis=0))\n",
        "print(np.concatenate((c,d),axis=1 ))"
      ],
      "metadata": {
        "colab": {
          "base_uri": "https://localhost:8080/"
        },
        "id": "VF6Y3NCFb6t3",
        "outputId": "fa0075e2-c75a-4076-b8e4-464cdafcb9a5"
      },
      "execution_count": null,
      "outputs": [
        {
          "output_type": "stream",
          "name": "stdout",
          "text": [
            "[[23 45 56 78]\n",
            " [12 13 14 15]\n",
            " [ 1  2  3  4]\n",
            " [ 5  6  7  8]]\n",
            "[[23 45 56 78  1  2  3  4]\n",
            " [12 13 14 15  5  6  7  8]]\n"
          ]
        }
      ]
    },
    {
      "cell_type": "code",
      "source": [
        "x = np.array([[1, 2], [3, 4]])     #00 01 10 11\n",
        "print(x[0,0],x[0,1],x[1,0],x[1,1])\n",
        "print(x.ndim)\n",
        "y = np.array([[5, 6],[3,4]])\n",
        "print(y.ndim)\n",
        "np.concatenate((x,y),axis=1)"
      ],
      "metadata": {
        "colab": {
          "base_uri": "https://localhost:8080/"
        },
        "id": "qZGznGOjb6r7",
        "outputId": "293a786b-625d-4cd8-e582-d0eb9a61eb33"
      },
      "execution_count": null,
      "outputs": [
        {
          "output_type": "stream",
          "name": "stdout",
          "text": [
            "1 2 3 4\n",
            "2\n",
            "2\n"
          ]
        },
        {
          "output_type": "execute_result",
          "data": {
            "text/plain": [
              "array([[1, 2, 5, 6],\n",
              "       [3, 4, 3, 4]])"
            ]
          },
          "metadata": {},
          "execution_count": 95
        }
      ]
    },
    {
      "cell_type": "code",
      "source": [
        "a=np.array([[1,2,3,4],                          #b=np.array(([12,13,14,15],\n",
        "            [5,6,7,8]])\n",
        "print(a)                       #            [16,17,18,19]))\n",
        "b=np.array(([12,13,14,15],\n",
        "            [16,17,18,19]))\n",
        "print(a.ndim,b.ndim)\n",
        "print(np.concatenate((a,b),axis=0))\n",
        "print(np.concatenate((a,b),axis=1))\n",
        "print(np.sum((a,b) , axis=0))\n",
        "print(np.sum((a,b), axis=1))"
      ],
      "metadata": {
        "colab": {
          "base_uri": "https://localhost:8080/"
        },
        "id": "2Rx2tkByilmC",
        "outputId": "c532964a-de7d-4f39-9a58-6c6b1ec4920f"
      },
      "execution_count": null,
      "outputs": [
        {
          "output_type": "stream",
          "name": "stdout",
          "text": [
            "[[1 2 3 4]\n",
            " [5 6 7 8]]\n",
            "2 2\n",
            "[[ 1  2  3  4]\n",
            " [ 5  6  7  8]\n",
            " [12 13 14 15]\n",
            " [16 17 18 19]]\n",
            "[[ 1  2  3  4 12 13 14 15]\n",
            " [ 5  6  7  8 16 17 18 19]]\n",
            "[[13 15 17 19]\n",
            " [21 23 25 27]]\n",
            "[[ 6  8 10 12]\n",
            " [28 30 32 34]]\n"
          ]
        }
      ]
    },
    {
      "cell_type": "code",
      "source": [
        "print(np.sum((a,b) , axis=0))"
      ],
      "metadata": {
        "colab": {
          "base_uri": "https://localhost:8080/"
        },
        "id": "VuEw8R0d6oLo",
        "outputId": "5b273581-919d-4928-9611-5f4bdc315da4"
      },
      "execution_count": null,
      "outputs": [
        {
          "output_type": "stream",
          "name": "stdout",
          "text": [
            "[[13 15 17 19]\n",
            " [21 23 25 27]]\n"
          ]
        }
      ]
    },
    {
      "cell_type": "code",
      "source": [
        "print(np.sum((a,b), axis=1))"
      ],
      "metadata": {
        "colab": {
          "base_uri": "https://localhost:8080/"
        },
        "id": "_q5Bify46oI_",
        "outputId": "d3bb5187-4ae6-4c51-d68e-689baeb39735"
      },
      "execution_count": null,
      "outputs": [
        {
          "output_type": "stream",
          "name": "stdout",
          "text": [
            "[[ 6  8 10 12]\n",
            " [28 30 32 34]]\n"
          ]
        }
      ]
    },
    {
      "cell_type": "code",
      "source": [
        "a='73,456'\n",
        "print(type(a))"
      ],
      "metadata": {
        "colab": {
          "base_uri": "https://localhost:8080/"
        },
        "id": "BUVBrOryT5nd",
        "outputId": "451e7c18-5167-4e05-de6b-7f7dac68a122"
      },
      "execution_count": null,
      "outputs": [
        {
          "output_type": "stream",
          "name": "stdout",
          "text": [
            "<class 'str'>\n"
          ]
        }
      ]
    },
    {
      "cell_type": "code",
      "source": [
        "x=a.split()[0].replace(',','')"
      ],
      "metadata": {
        "id": "noEMgwpZUx0k"
      },
      "execution_count": null,
      "outputs": []
    },
    {
      "cell_type": "code",
      "source": [
        "int_value=np.array(x,dtype='int')                         #converted the string value'73,456' int integer\n",
        "print(int_value)"
      ],
      "metadata": {
        "id": "dk7Nl3kFATlc",
        "colab": {
          "base_uri": "https://localhost:8080/"
        },
        "outputId": "aff9288d-c961-4745-95f9-59a16ed1cd62"
      },
      "execution_count": null,
      "outputs": [
        {
          "output_type": "stream",
          "name": "stdout",
          "text": [
            "73456\n"
          ]
        }
      ]
    },
    {
      "cell_type": "markdown",
      "source": [
        "ndarray.ndim will tell you the number of axes, or dimensions, of the array.\n",
        "\n",
        "ndarray.size will tell you the total number of elements of the array. This is the product of the elements of the array’s shape.\n",
        "\n",
        "ndarray.shape will display a tuple of integers that indicate the number of elements stored along each dimension of the array. If, for example, you have a 2-D array with 2 rows and 3 columns, the shape of your array is (2, 3)"
      ],
      "metadata": {
        "id": "CNUWIplTkfic"
      }
    },
    {
      "cell_type": "code",
      "source": [
        "a=np.array([[1,2,3,4],\n",
        "            [5,6,7,8]])\n",
        "print(np.size(a))\n",
        "print(np.shape(a))"
      ],
      "metadata": {
        "colab": {
          "base_uri": "https://localhost:8080/"
        },
        "id": "bnX2HeGdiliq",
        "outputId": "06a43982-926a-43b6-b6af-4dfd80630018"
      },
      "execution_count": null,
      "outputs": [
        {
          "output_type": "stream",
          "name": "stdout",
          "text": [
            "8\n",
            "(2, 4)\n"
          ]
        }
      ]
    },
    {
      "cell_type": "code",
      "source": [
        "x=np.array([1,2,3,4,5,6,7,8,9])\n",
        "print(x.ndim)\n",
        "x[6]\n",
        "np.size(x)\n",
        "print(x)\n",
        "x.reshape(3,3)           #here i reshaped the 1-d array to 2-d array as 3 rows and 3 columns"
      ],
      "metadata": {
        "colab": {
          "base_uri": "https://localhost:8080/"
        },
        "id": "E_G1xuiVilfd",
        "outputId": "3f47bb7c-98e0-4db5-c723-34577f951818"
      },
      "execution_count": null,
      "outputs": [
        {
          "output_type": "stream",
          "name": "stdout",
          "text": [
            "1\n",
            "[1 2 3 4 5 6 7 8 9]\n"
          ]
        },
        {
          "output_type": "execute_result",
          "data": {
            "text/plain": [
              "array([[1, 2, 3],\n",
              "       [4, 5, 6],\n",
              "       [7, 8, 9]])"
            ]
          },
          "metadata": {},
          "execution_count": 122
        }
      ]
    },
    {
      "cell_type": "code",
      "source": [
        "a=np.arange(1,16,2)\n",
        "print(a)\n",
        "print(a.reshape(2,4))\n",
        "print(a.reshape(4,2))"
      ],
      "metadata": {
        "colab": {
          "base_uri": "https://localhost:8080/"
        },
        "id": "byfouKXrilXK",
        "outputId": "d5d7ec72-02e5-449f-fb60-08af2e9bed0e"
      },
      "execution_count": null,
      "outputs": [
        {
          "output_type": "stream",
          "name": "stdout",
          "text": [
            "[ 1  3  5  7  9 11 13 15]\n",
            "[[ 1  3  5  7]\n",
            " [ 9 11 13 15]]\n",
            "[[ 1  3]\n",
            " [ 5  7]\n",
            " [ 9 11]\n",
            " [13 15]]\n"
          ]
        }
      ]
    },
    {
      "cell_type": "code",
      "source": [
        "a=np.array([[[1,2,3] , [5,6,7] , [9,10,11]]])\n",
        "a"
      ],
      "metadata": {
        "colab": {
          "base_uri": "https://localhost:8080/"
        },
        "id": "RrbhdETeiktv",
        "outputId": "b74ee832-f2b9-4bc9-caca-56b9075be71b"
      },
      "execution_count": null,
      "outputs": [
        {
          "output_type": "execute_result",
          "data": {
            "text/plain": [
              "array([[[ 1,  2,  3],\n",
              "        [ 5,  6,  7],\n",
              "        [ 9, 10, 11]]])"
            ]
          },
          "metadata": {},
          "execution_count": 8
        }
      ]
    },
    {
      "cell_type": "code",
      "source": [
        "a.ndim"
      ],
      "metadata": {
        "colab": {
          "base_uri": "https://localhost:8080/"
        },
        "id": "dCoxkcRETlWh",
        "outputId": "4604fbf7-0c25-4d75-9977-86c9716ad5e8"
      },
      "execution_count": null,
      "outputs": [
        {
          "output_type": "execute_result",
          "data": {
            "text/plain": [
              "3"
            ]
          },
          "metadata": {},
          "execution_count": 9
        }
      ]
    },
    {
      "cell_type": "code",
      "source": [
        "a.shape"
      ],
      "metadata": {
        "colab": {
          "base_uri": "https://localhost:8080/"
        },
        "id": "PmG89Q40ikqZ",
        "outputId": "bca29cc0-833a-445e-9fa3-b2dcaf6c205a"
      },
      "execution_count": null,
      "outputs": [
        {
          "output_type": "execute_result",
          "data": {
            "text/plain": [
              "(1, 3, 3)"
            ]
          },
          "metadata": {},
          "execution_count": 10
        }
      ]
    },
    {
      "cell_type": "code",
      "source": [
        "a.size"
      ],
      "metadata": {
        "colab": {
          "base_uri": "https://localhost:8080/"
        },
        "id": "m1NAs7skikn8",
        "outputId": "0ec344b9-7d66-4e5a-91c9-784c316c9f83"
      },
      "execution_count": null,
      "outputs": [
        {
          "output_type": "execute_result",
          "data": {
            "text/plain": [
              "9"
            ]
          },
          "metadata": {},
          "execution_count": 12
        }
      ]
    },
    {
      "cell_type": "code",
      "source": [
        "a.dtype"
      ],
      "metadata": {
        "colab": {
          "base_uri": "https://localhost:8080/"
        },
        "id": "0FQarYfEikmW",
        "outputId": "cf9621c2-2fb0-4269-c85b-3e8595935828"
      },
      "execution_count": null,
      "outputs": [
        {
          "output_type": "execute_result",
          "data": {
            "text/plain": [
              "dtype('int64')"
            ]
          },
          "metadata": {},
          "execution_count": 145
        }
      ]
    },
    {
      "cell_type": "code",
      "source": [
        "a.shape"
      ],
      "metadata": {
        "colab": {
          "base_uri": "https://localhost:8080/"
        },
        "id": "s5bLMx59ikki",
        "outputId": "ae7dfe22-edcc-4637-b723-04f2d521bf09"
      },
      "execution_count": null,
      "outputs": [
        {
          "output_type": "execute_result",
          "data": {
            "text/plain": [
              "(1, 3, 3)"
            ]
          },
          "metadata": {},
          "execution_count": 13
        }
      ]
    },
    {
      "cell_type": "code",
      "source": [
        "my_array=np.arange(50)\n",
        "print(my_array)\n",
        "my_array.reshape(2,25)\n",
        "my_array=my_array.reshape(25,2)\n",
        "print(my_array)"
      ],
      "metadata": {
        "id": "ZIlLVKwgb6pk",
        "colab": {
          "base_uri": "https://localhost:8080/"
        },
        "outputId": "1dd8a9a9-615d-4248-84a8-b615c5aac025"
      },
      "execution_count": null,
      "outputs": [
        {
          "output_type": "stream",
          "name": "stdout",
          "text": [
            "[ 0  1  2  3  4  5  6  7  8  9 10 11 12 13 14 15 16 17 18 19 20 21 22 23\n",
            " 24 25 26 27 28 29 30 31 32 33 34 35 36 37 38 39 40 41 42 43 44 45 46 47\n",
            " 48 49]\n",
            "[[ 0  1]\n",
            " [ 2  3]\n",
            " [ 4  5]\n",
            " [ 6  7]\n",
            " [ 8  9]\n",
            " [10 11]\n",
            " [12 13]\n",
            " [14 15]\n",
            " [16 17]\n",
            " [18 19]\n",
            " [20 21]\n",
            " [22 23]\n",
            " [24 25]\n",
            " [26 27]\n",
            " [28 29]\n",
            " [30 31]\n",
            " [32 33]\n",
            " [34 35]\n",
            " [36 37]\n",
            " [38 39]\n",
            " [40 41]\n",
            " [42 43]\n",
            " [44 45]\n",
            " [46 47]\n",
            " [48 49]]\n"
          ]
        }
      ]
    },
    {
      "cell_type": "code",
      "source": [
        "print(my_array.shape)\n",
        "print(my_array.size)"
      ],
      "metadata": {
        "colab": {
          "base_uri": "https://localhost:8080/"
        },
        "id": "0m3hr183zCCy",
        "outputId": "99aa6342-10b3-4d58-8edd-669c658b1245"
      },
      "execution_count": null,
      "outputs": [
        {
          "output_type": "stream",
          "name": "stdout",
          "text": [
            "(25, 2)\n",
            "50\n"
          ]
        }
      ]
    },
    {
      "cell_type": "code",
      "source": [
        "a=np.array([[1,2,3,4], [5,6,7,8]])\n",
        "a"
      ],
      "metadata": {
        "colab": {
          "base_uri": "https://localhost:8080/"
        },
        "id": "RgKCs7Ht0CAM",
        "outputId": "82f89bda-b159-444b-80fa-a8fc4ff9bf3a"
      },
      "execution_count": null,
      "outputs": [
        {
          "output_type": "execute_result",
          "data": {
            "text/plain": [
              "array([[1, 2, 3, 4],\n",
              "       [5, 6, 7, 8]])"
            ]
          },
          "metadata": {},
          "execution_count": 177
        }
      ]
    },
    {
      "cell_type": "markdown",
      "source": [
        "###The ravel() function in numpy is used to flatten a multi-dimensional array into a contiguous 1-D array. The returned array has the same elements as the input array, but in a single dimension.\n",
        "**The syntax for the ravel() function is:**\n",
        "###**np.ravel(array, order='C')**"
      ],
      "metadata": {
        "id": "fSzUniDR0hIP"
      }
    },
    {
      "cell_type": "code",
      "source": [
        "a.ravel()"
      ],
      "metadata": {
        "colab": {
          "base_uri": "https://localhost:8080/"
        },
        "id": "_VYEphyu0ZOR",
        "outputId": "f5badafc-2180-4627-d9da-8713573b2afd"
      },
      "execution_count": null,
      "outputs": [
        {
          "output_type": "execute_result",
          "data": {
            "text/plain": [
              "array([1, 2, 3, 4, 5, 6, 7, 8])"
            ]
          },
          "metadata": {},
          "execution_count": 179
        }
      ]
    },
    {
      "cell_type": "markdown",
      "source": [
        "#Array operations"
      ],
      "metadata": {
        "id": "PYOqvS9a8N08"
      }
    },
    {
      "cell_type": "code",
      "source": [
        "my_arr=[[1,6,3] , [4,2,8] , [7,9,1] ]\n",
        "a=np.array(my_arr)\n",
        "a"
      ],
      "metadata": {
        "id": "fONSjpfK8LL9",
        "colab": {
          "base_uri": "https://localhost:8080/"
        },
        "outputId": "16314645-4b48-441c-a954-31c1bb5a7577"
      },
      "execution_count": null,
      "outputs": [
        {
          "output_type": "execute_result",
          "data": {
            "text/plain": [
              "array([[1, 6, 3],\n",
              "       [4, 2, 8],\n",
              "       [7, 9, 1]])"
            ]
          },
          "metadata": {},
          "execution_count": 200
        }
      ]
    },
    {
      "cell_type": "code",
      "source": [
        "a.sum(axis=0)"
      ],
      "metadata": {
        "colab": {
          "base_uri": "https://localhost:8080/"
        },
        "id": "z56GFYYW-JRV",
        "outputId": "dc35e5ec-adc9-4f31-ca34-c658a2541a28"
      },
      "execution_count": null,
      "outputs": [
        {
          "output_type": "execute_result",
          "data": {
            "text/plain": [
              "array([12, 17, 12])"
            ]
          },
          "metadata": {},
          "execution_count": 201
        }
      ]
    },
    {
      "cell_type": "code",
      "source": [
        "ap-.sum(axis=1)"
      ],
      "metadata": {
        "colab": {
          "base_uri": "https://localhost:8080/"
        },
        "id": "8pZps6V2-F-z",
        "outputId": "9cd95bd8-d5a5-40ab-f8c1-7d524ebdf47c"
      },
      "execution_count": null,
      "outputs": [
        {
          "output_type": "execute_result",
          "data": {
            "text/plain": [
              "array([10, 14, 17])"
            ]
          },
          "metadata": {},
          "execution_count": 202
        }
      ]
    },
    {
      "cell_type": "code",
      "source": [
        "a.T   #transpose of array a"
      ],
      "metadata": {
        "id": "Z5KjZRFQ8LJ6",
        "colab": {
          "base_uri": "https://localhost:8080/"
        },
        "outputId": "6fd2b98a-ad6c-4d91-ff3f-dc4893c3e29c"
      },
      "execution_count": null,
      "outputs": [
        {
          "output_type": "execute_result",
          "data": {
            "text/plain": [
              "array([[1, 4, 7],\n",
              "       [6, 2, 9],\n",
              "       [3, 8, 1]])"
            ]
          },
          "metadata": {},
          "execution_count": 205
        }
      ]
    },
    {
      "cell_type": "code",
      "source": [
        "a.flat"
      ],
      "metadata": {
        "id": "DJi-Y4678LH-"
      },
      "execution_count": null,
      "outputs": []
    },
    {
      "cell_type": "code",
      "source": [
        "for i in a.flat:\n",
        "  print(i)"
      ],
      "metadata": {
        "id": "HLq3nI9W8LFo",
        "colab": {
          "base_uri": "https://localhost:8080/"
        },
        "outputId": "9d0b75c9-ba41-40bf-9f0e-ae0ab3345e11"
      },
      "execution_count": null,
      "outputs": [
        {
          "output_type": "stream",
          "name": "stdout",
          "text": [
            "1\n",
            "6\n",
            "3\n",
            "4\n",
            "2\n",
            "8\n",
            "7\n",
            "9\n",
            "1\n"
          ]
        }
      ]
    },
    {
      "cell_type": "code",
      "source": [
        "a.nbytes   #no of bytes consumed"
      ],
      "metadata": {
        "id": "DyQuSrsP8LCs",
        "colab": {
          "base_uri": "https://localhost:8080/"
        },
        "outputId": "beb5c0e2-5d02-4aa0-c41e-937f92bd763f"
      },
      "execution_count": null,
      "outputs": [
        {
          "output_type": "execute_result",
          "data": {
            "text/plain": [
              "72"
            ]
          },
          "metadata": {},
          "execution_count": 208
        }
      ]
    },
    {
      "cell_type": "code",
      "source": [
        "x=np.array([111,13,56,43,45])\n"
      ],
      "metadata": {
        "id": "e4NyZkERATwE"
      },
      "execution_count": null,
      "outputs": []
    },
    {
      "cell_type": "code",
      "source": [
        "x.argmax()    #returns the index of greatest element is an array"
      ],
      "metadata": {
        "colab": {
          "base_uri": "https://localhost:8080/"
        },
        "id": "Wh56Y7epATuZ",
        "outputId": "03d2b9f5-be37-4bdb-c731-4fd18cac2191"
      },
      "execution_count": null,
      "outputs": [
        {
          "output_type": "execute_result",
          "data": {
            "text/plain": [
              "2"
            ]
          },
          "metadata": {},
          "execution_count": 213
        }
      ]
    },
    {
      "cell_type": "code",
      "source": [
        "x.argmin()"
      ],
      "metadata": {
        "colab": {
          "base_uri": "https://localhost:8080/"
        },
        "id": "NNPbx9ULATsN",
        "outputId": "8545d856-65b2-4844-8663-41864c7e6cc9"
      },
      "execution_count": null,
      "outputs": [
        {
          "output_type": "execute_result",
          "data": {
            "text/plain": [
              "1"
            ]
          },
          "metadata": {},
          "execution_count": 218
        }
      ]
    },
    {
      "cell_type": "code",
      "source": [
        "x.argsort()         #returns the index of elements to be sorted in ascending order"
      ],
      "metadata": {
        "colab": {
          "base_uri": "https://localhost:8080/"
        },
        "id": "LUtEE5zIATo-",
        "outputId": "fedff556-d390-46f9-dd06-85217516ee06"
      },
      "execution_count": null,
      "outputs": [
        {
          "output_type": "execute_result",
          "data": {
            "text/plain": [
              "array([1, 3, 4, 2, 0])"
            ]
          },
          "metadata": {},
          "execution_count": 219
        }
      ]
    },
    {
      "cell_type": "code",
      "source": [],
      "metadata": {
        "id": "KI2ImZM7ATjt"
      },
      "execution_count": null,
      "outputs": []
    },
    {
      "cell_type": "code",
      "source": [],
      "metadata": {
        "id": "6zqHx4dCATiF"
      },
      "execution_count": null,
      "outputs": []
    },
    {
      "cell_type": "code",
      "source": [],
      "metadata": {
        "id": "8xD1RLdmATgV"
      },
      "execution_count": null,
      "outputs": []
    },
    {
      "cell_type": "code",
      "source": [],
      "metadata": {
        "id": "c30aFt5OATd4"
      },
      "execution_count": null,
      "outputs": []
    }
  ]
}